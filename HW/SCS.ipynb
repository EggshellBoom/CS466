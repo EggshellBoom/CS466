{
 "cells": [
  {
   "cell_type": "code",
   "execution_count": 11,
   "metadata": {},
   "outputs": [
    {
     "data": {
      "text/plain": [
       "8"
      ]
     },
     "execution_count": 11,
     "metadata": {},
     "output_type": "execute_result"
    }
   ],
   "source": [
    "def scs(i,j):\n",
    "    if i is 0 and j is 0:\n",
    "        return 0\n",
    "    if i>0 and j>0 and word_v[i] == word_w[j]:\n",
    "        return min((scs(i-1,j-1) + 1),(scs(i-1,j)+1),(scs(i,j-1)+1),(scs(i-1,j-1)+2))\n",
    "    if i>0 and j >0:\n",
    "        return min((scs(i-1,j)+1),(scs(i,j-1)+1),(scs(i-1,j-1)+2))\n",
    "    if i>0:\n",
    "        return scs(i-1,j) + 1\n",
    "    if j>0:\n",
    "        return scs(i,j-1)+1\n",
    "    \n",
    "\n",
    "word_v = [\" \",\"h\",\"e\",\"l\",\"l\",\"o\"]\n",
    "word_w = [\" \",\"g\",\"e\",\"e\",\"k\"]\n",
    "\n",
    "scs(5,4)\n",
    "            "
   ]
  }
 ],
 "metadata": {
  "kernelspec": {
   "display_name": "Python 3",
   "language": "python",
   "name": "python3"
  },
  "language_info": {
   "codemirror_mode": {
    "name": "ipython",
    "version": 3
   },
   "file_extension": ".py",
   "mimetype": "text/x-python",
   "name": "python",
   "nbconvert_exporter": "python",
   "pygments_lexer": "ipython3",
   "version": "3.7.0"
  }
 },
 "nbformat": 4,
 "nbformat_minor": 2
}
